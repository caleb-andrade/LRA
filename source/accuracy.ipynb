{
 "cells": [
  {
   "cell_type": "code",
   "execution_count": 67,
   "metadata": {
    "collapsed": false
   },
   "outputs": [],
   "source": [
    "import pandas as pd\n",
    "import numpy as np\n",
    "from numpy import *\n",
    "from pyfasta import Fasta"
   ]
  },
  {
   "cell_type": "code",
   "execution_count": 68,
   "metadata": {
    "collapsed": false
   },
   "outputs": [
    {
     "data": {
      "text/plain": [
       "'ENST00000616125'"
      ]
     },
     "execution_count": 68,
     "metadata": {},
     "output_type": "execute_result"
    }
   ],
   "source": [
    "s = \"@1:924880-944581W:ENST00000616125:6:2230:99:304:S/2\"\n",
    "s.split(':')[2]"
   ]
  },
  {
   "cell_type": "code",
   "execution_count": 69,
   "metadata": {
    "collapsed": true
   },
   "outputs": [],
   "source": [
    "def readCalebsCluster(fn):\n",
    "    tr_clust = {}\n",
    "    tr_clust_inv = {}\n",
    "    \n",
    "    ft = open(fn)\n",
    "    cNum = 0\n",
    "    for line in ft:\n",
    "        while(line.strip()):\n",
    "            tr_clust[line.strip().lstrip('@')] = cNum\n",
    "            line = ft.next()\n",
    "        cNum += 1\n",
    "    \n",
    "    for k,v in tr_clust.iteritems():\n",
    "        if v in tr_clust_inv:\n",
    "            tr_clust_inv[v].append(k)\n",
    "        else:\n",
    "            tr_clust_inv[v] = [k]\n",
    "    return tr_clust, tr_clust_inv"
   ]
  },
  {
   "cell_type": "code",
   "execution_count": 70,
   "metadata": {
    "collapsed": false
   },
   "outputs": [],
   "source": [
    "def readTrueLabels(fn):\n",
    "    groundTruth_clust = {}\n",
    "    groundTruth_clust_inv = {}\n",
    "    ft = open(fn)\n",
    "    \n",
    "    for line in ft:\n",
    "        readId = line[:-1].lstrip('@')\n",
    "        transcriptId = line.split(':')[2]\n",
    "        groundTruth_clust[readId] = transcriptId\n",
    "        for _ in range(3):\n",
    "            ft.next()\n",
    "    \n",
    "    for k,v in groundTruth_clust.iteritems():\n",
    "        if v in groundTruth_clust_inv:\n",
    "            groundTruth_clust_inv[v].append(k)\n",
    "        else:\n",
    "            groundTruth_clust_inv[v] = [k]\n",
    "    return groundTruth_clust, groundTruth_clust_inv"
   ]
  },
  {
   "cell_type": "code",
   "execution_count": 71,
   "metadata": {
    "collapsed": false
   },
   "outputs": [],
   "source": [
    "def parseFastq(fileName):\n",
    "    ft = open(fileName)\n",
    "    reads = []\n",
    "    for line in ft:\n",
    "        reads.append(line.strip().lstrip('@'))\n",
    "        for _ in range(3):\n",
    "            ft.next()\n",
    "    return reads\n",
    "\n",
    "def readLSAcluster(path):\n",
    "    import glob\n",
    "    tr_clust = {}\n",
    "    tr_clust_inv = {}\n",
    "    \n",
    "    clusters = glob.glob(path+'*')\n",
    "    for cluster in clusters:\n",
    "        fastq = glob.glob(cluster+'/*')\n",
    "        for fileName in fastq:\n",
    "            reads = parseFastq(fileName)\n",
    "            for read in reads:\n",
    "                tr_clust[read] = clusters.index(cluster)\n",
    " \n",
    "    for k,v in tr_clust.iteritems():\n",
    "        if v in tr_clust_inv:\n",
    "            tr_clust_inv[v].append(k)\n",
    "        else:\n",
    "            tr_clust_inv[v] = [k]\n",
    "    return tr_clust, tr_clust_inv"
   ]
  },
  {
   "cell_type": "code",
   "execution_count": 79,
   "metadata": {
    "collapsed": false
   },
   "outputs": [],
   "source": [
    "import itertools\n",
    "\n",
    "class Classification:\n",
    "    TruePos, FalsePos, TrueNeg, FalseNeg = range(4)\n",
    "\n",
    "def classType(true1, true2, pred1, pred2):\n",
    "    if true1 == true2:\n",
    "        if pred1 == pred2:\n",
    "            return Classification.TruePos\n",
    "        else: # truely the same, predicted different\n",
    "            return Classification.FalseNeg\n",
    "    else: # truly different\n",
    "        if pred1 == pred2: #predicted same\n",
    "            return Classification.FalsePos\n",
    "        else:\n",
    "            return Classification.TrueNeg\n",
    "\n",
    "def accuracyExpressed(groundTruth_clust, tr_clust):\n",
    "    #count true postive for each pair of transcripts O(N^2)\n",
    "    tp, fp, tn, fn = 0, 0, 0, 0\n",
    "    for tr_1, tr_2 in itertools.combinations(tr_clust.keys(), 2):\n",
    "        if tr_1 not in groundTruth_clust or tr_2 not in groundTruth_clust:\n",
    "            continue\n",
    "        ct = classType(groundTruth_clust[tr_1], groundTruth_clust[tr_2], tr_clust[tr_1], tr_clust[tr_2]) \n",
    "        if ct == Classification.TruePos:\n",
    "            tp += 1\n",
    "        elif ct == Classification.TrueNeg:\n",
    "            tn += 1\n",
    "        elif ct == Classification.FalsePos:\n",
    "            fp += 1\n",
    "        elif ct == Classification.FalseNeg:\n",
    "            fn += 1\n",
    "    return tp, fp, tn, fn\n",
    "\n",
    "        \n",
    "def accuracyExpressedFast(groundTruth_clust, groundTruth_clust_inv,\n",
    "                          tr_clust, tr_clust_inv):\n",
    "    #Hackish and faster way to calculate accuracy\n",
    "    num = len(set(tr_clust.keys()) & set(groundTruth_clust.keys()))\n",
    "    tp, fp, tn, fn = 0, 0, 0, 0\n",
    "    for clustName, clustMems in tr_clust_inv.iteritems():\n",
    "        for tr_1, tr_2 in itertools.combinations(clustMems,2):\n",
    "            if tr_1 not in groundTruth_clust or tr_2 not in groundTruth_clust:\n",
    "                continue\n",
    "            if groundTruth_clust[tr_1] == groundTruth_clust[tr_2]:\n",
    "                tp += 1\n",
    "            else:\n",
    "                fp += 1\n",
    "    for clustName, clustMems in groundTruth_clust_inv.iteritems():\n",
    "        for tr_1, tr_2 in itertools.combinations(clustMems,2):\n",
    "            if tr_1 not in tr_clust or tr_2 not in tr_clust:\n",
    "                continue\n",
    "            if tr_clust[tr_1] != tr_clust[tr_2]:\n",
    "                fn += 1\n",
    "    nc2 = (num * (num-1)) / 2\n",
    "    tn = nc2 - (fp + tp + fn)\n",
    "    return tp, fp, tn, fn"
   ]
  },
  {
   "cell_type": "markdown",
   "metadata": {},
   "source": [
    "##Calebs's"
   ]
  },
  {
   "cell_type": "code",
   "execution_count": 50,
   "metadata": {
    "collapsed": false
   },
   "outputs": [],
   "source": [
    "tr_clust, tr_clust_inv = readCalebsCluster('./clusters/r2.txt')\n",
    "groundTruth_clust, groundTruth_clust_inv= readTrueLabels('./reads/r2_100k.fastq')"
   ]
  },
  {
   "cell_type": "markdown",
   "metadata": {
    "collapsed": false
   },
   "source": [
    "##LSA clusters"
   ]
  },
  {
   "cell_type": "code",
   "execution_count": 76,
   "metadata": {
    "collapsed": false
   },
   "outputs": [],
   "source": [
    "tr_clust, tr_clust_inv = readLSAcluster('./clusters/LSAcluster/')\n",
    "groundTruth_clust, groundTruth_clust_inv= readTrueLabels('./reads/r2_100k.fastq')"
   ]
  },
  {
   "cell_type": "markdown",
   "metadata": {},
   "source": [
    "##Accuracy"
   ]
  },
  {
   "cell_type": "code",
   "execution_count": 80,
   "metadata": {
    "collapsed": false
   },
   "outputs": [
    {
     "name": "stdout",
     "output_type": "stream",
     "text": [
      "93467\n",
      "True positives = 58778000\n",
      "False positives = 198413986\n",
      "True negative = 4084672492\n",
      "False negative = 26128833\n",
      "precision = 0.228537447508\n",
      "recall = 0.692264661432\n",
      "f1 = 0.34363170368\n"
     ]
    }
   ],
   "source": [
    "tp, fp, tn, fn = accuracyExpressedFast(groundTruth_clust, groundTruth_clust_inv, tr_clust, tr_clust_inv)\n",
    "precision = tp / float(tp+fp)\n",
    "recall = tp/ float(tp+fn)\n",
    "f1 = 2*precision*recall / (precision + recall)\n",
    "print(\"tp : {}, fp : {}, tn : {}, fn : {}\".format(tp, fp, tn, fn))\n",
    "print(\"prec: {}, recall: {}, f1: {}\".format(precision, recall))\n",
    "print(\"f1: {}\".format(f1) )"
   ]
  },
  {
   "cell_type": "code",
   "execution_count": null,
   "metadata": {
    "collapsed": true
   },
   "outputs": [],
   "source": []
  }
 ],
 "metadata": {
  "kernelspec": {
   "display_name": "Python 2",
   "language": "python",
   "name": "python2"
  },
  "language_info": {
   "codemirror_mode": {
    "name": "ipython",
    "version": 2
   },
   "file_extension": ".py",
   "mimetype": "text/x-python",
   "name": "python",
   "nbconvert_exporter": "python",
   "pygments_lexer": "ipython2",
   "version": "2.7.8"
  }
 },
 "nbformat": 4,
 "nbformat_minor": 0
}
