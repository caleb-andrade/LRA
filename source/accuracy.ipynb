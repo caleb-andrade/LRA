{
 "cells": [
  {
   "cell_type": "code",
   "execution_count": 7,
   "metadata": {
    "collapsed": false
   },
   "outputs": [],
   "source": [
    "import pandas as pd\n",
    "import numpy as np\n",
    "from numpy import *\n",
    "from pyfasta import Fasta"
   ]
  },
  {
   "cell_type": "code",
   "execution_count": 42,
   "metadata": {
    "collapsed": false
   },
   "outputs": [
    {
     "data": {
      "text/plain": [
       "'ENST00000616125'"
      ]
     },
     "execution_count": 42,
     "metadata": {},
     "output_type": "execute_result"
    }
   ],
   "source": [
    "s = \"@1:924880-944581W:ENST00000616125:6:2230:99:304:S/2\"\n",
    "s.split(':')[2]"
   ]
  },
  {
   "cell_type": "code",
   "execution_count": 8,
   "metadata": {
    "collapsed": true
   },
   "outputs": [],
   "source": [
    "def readScottsCluster(fn):\n",
    "    tr_clust = {}\n",
    "    tr_clust_inv = {}\n",
    "    \n",
    "    ft = open(fn)\n",
    "    cNum = 0\n",
    "    for line in ft:\n",
    "        while(line != '\\n'):\n",
    "              tr_clust[line[:-1].lstrip('@')] = cNum\n",
    "        cNum += 1\n",
    "    \n",
    "    for k,v in tr_clust.iteritems():\n",
    "        if v in tr_clust_inv:\n",
    "            tr_clust_inv[v].append(k)\n",
    "        else:\n",
    "            tr_clust_inv[v] = [k]\n",
    "    return tr_clust, tr_clust_inv"
   ]
  },
  {
   "cell_type": "code",
   "execution_count": 9,
   "metadata": {
    "collapsed": false
   },
   "outputs": [],
   "source": [
    "def readTrueLabels(fn):\n",
    "    groundTruth_clust = {}\n",
    "    groundTruth_clust_inv = {}\n",
    "    ft = open(fn)\n",
    "    \n",
    "    for line in ft:\n",
    "        readId = line[:-1].lstrip('@')\n",
    "        transcriptId = line.split(':')[2]\n",
    "        groundTruth_clust[readId] = transcriptId\n",
    "        for _ in range(3):\n",
    "            ft.next()\n",
    "    \n",
    "    for k,v in groundTruth_clust.iteritems():\n",
    "        if v in groundTruth_clust_inv:\n",
    "            groundTruth_clust_inv[v].append(k)\n",
    "        else:\n",
    "            groundTruth_clust_inv[v] = [k]\n",
    "    return groundTruth_clust, groundTruth_clust_inv"
   ]
  },
  {
   "cell_type": "code",
   "execution_count": 10,
   "metadata": {
    "collapsed": false
   },
   "outputs": [],
   "source": [
    "import itertools\n",
    "\n",
    "class Classification:\n",
    "    TruePos, FalsePos, TrueNeg, FalseNeg = range(4)\n",
    "\n",
    "def classType(true1, true2, pred1, pred2):\n",
    "    if true1 == true2:\n",
    "        if pred1 == pred2:\n",
    "            return Classification.TruePos\n",
    "        else: # truely the same, predicted different\n",
    "            return Classification.FalseNeg\n",
    "    else: # truly different\n",
    "        if pred1 == pred2: #predicted same\n",
    "            return Classification.FalsePos\n",
    "        else:\n",
    "            return Classification.TrueNeg\n",
    "\n",
    "def accuracyExpressed(groundTruth_clust, tr_clust):\n",
    "    #count true postive for each pair of transcripts O(N^2)\n",
    "    tp, fp, tn, fn = 0, 0, 0, 0\n",
    "    for tr_1, tr_2 in itertools.combinations(tr_clust.keys(), 2):\n",
    "        if tr_1 not in groundTruth_clust or tr_2 not in groundTruth_clust:\n",
    "            continue\n",
    "        ct = classType(groundTruth_clust[tr_1], groundTruth_clust[tr_2], tr_clust[tr_1], tr_clust[tr_2]) \n",
    "        if ct == Classification.TruePos:\n",
    "            tp += 1\n",
    "        elif ct == Classification.TrueNeg:\n",
    "            tn += 1\n",
    "        elif ct == Classification.FalsePos:\n",
    "            fp += 1\n",
    "        elif ct == Classification.FalseNeg:\n",
    "            fn += 1\n",
    "    return tp, fp, tn, fn\n",
    "\n",
    "        \n",
    "def accuracyExpressedFast(groundTruth_clust, groundTruth_clust_inv,\n",
    "                          tr_clust, tr_clust_inv):\n",
    "    #Hackish and faster way to calculate accuracy\n",
    "    num = len(set(tr_clust.keys()) & set(groundTruth_clust.keys()))\n",
    "    tp, fp, tn, fn = 0, 0, 0, 0\n",
    "    for clustName, clustMems in tr_clust_inv.iteritems():\n",
    "        for tr_1, tr_2 in itertools.combinations(clustMems,2):\n",
    "            if tr_1 not in groundTruth_clust or tr_2 not in groundTruth_clust:\n",
    "                continue\n",
    "            if groundTruth_clust[tr_1] == groundTruth_clust[tr_2]:\n",
    "                tp += 1\n",
    "            else:\n",
    "                fp += 1\n",
    "    for clustName, clustMems in groundTruth_clust_inv.iteritems():\n",
    "        for tr_1, tr_2 in itertools.combinations(clustMems,2):\n",
    "            if tr_1 not in tr_clust or tr_2 not in tr_clust:\n",
    "                continue\n",
    "            if tr_clust[tr_1] != tr_clust[tr_2]:\n",
    "                fn += 1\n",
    "    nc2 = (num * (num-1)) / 2\n",
    "    tn = nc2 - (fp + tp + fn)\n",
    "    return tp, fp, tn, fn"
   ]
  },
  {
   "cell_type": "code",
   "execution_count": null,
   "metadata": {
    "collapsed": true
   },
   "outputs": [],
   "source": []
  }
 ],
 "metadata": {
  "kernelspec": {
   "display_name": "Python 2",
   "language": "python",
   "name": "python2"
  },
  "language_info": {
   "codemirror_mode": {
    "name": "ipython",
    "version": 2
   },
   "file_extension": ".py",
   "mimetype": "text/x-python",
   "name": "python",
   "nbconvert_exporter": "python",
   "pygments_lexer": "ipython2",
   "version": "2.7.8"
  }
 },
 "nbformat": 4,
 "nbformat_minor": 0
}
